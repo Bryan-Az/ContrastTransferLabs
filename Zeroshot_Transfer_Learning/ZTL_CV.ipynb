{
  "nbformat": 4,
  "nbformat_minor": 0,
  "metadata": {
    "colab": {
      "provenance": [],
      "authorship_tag": "ABX9TyPd9s2Oi3/XcoTweeVaOdLP",
      "include_colab_link": true
    },
    "kernelspec": {
      "name": "python3",
      "display_name": "Python 3"
    },
    "language_info": {
      "name": "python"
    }
  },
  "cells": [
    {
      "cell_type": "markdown",
      "metadata": {
        "id": "view-in-github",
        "colab_type": "text"
      },
      "source": [
        "<a href=\"https://colab.research.google.com/github/Bryan-Az/ContrastTransferLabs/blob/main/Zeroshot_Transfer_Learning/ZTL_CV.ipynb\" target=\"_parent\"><img src=\"https://colab.research.google.com/assets/colab-badge.svg\" alt=\"Open In Colab\"/></a>"
      ]
    },
    {
      "cell_type": "markdown",
      "source": [
        "github path: Zeroshot_Transfer_Learning/ZTL_CV.ipynb"
      ],
      "metadata": {
        "id": "vijg4Gf5QiSW"
      }
    },
    {
      "cell_type": "code",
      "execution_count": null,
      "metadata": {
        "id": "L08GFyX7QgGq"
      },
      "outputs": [],
      "source": []
    }
  ]
}