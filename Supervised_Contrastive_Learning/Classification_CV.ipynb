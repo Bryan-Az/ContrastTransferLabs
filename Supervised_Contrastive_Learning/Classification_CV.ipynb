{
  "nbformat": 4,
  "nbformat_minor": 0,
  "metadata": {
    "colab": {
      "provenance": [],
      "gpuType": "T4",
      "include_colab_link": true
    },
    "kernelspec": {
      "name": "python3",
      "display_name": "Python 3"
    },
    "language_info": {
      "name": "python"
    },
    "accelerator": "GPU"
  },
  "cells": [
    {
      "cell_type": "markdown",
      "metadata": {
        "id": "view-in-github",
        "colab_type": "text"
      },
      "source": [
        "<a href=\"https://colab.research.google.com/github/Bryan-Az/ContrastTransferLabs/blob/main/Supervised_Contrastive_Learning/Classification_CV.ipynb\" target=\"_parent\"><img src=\"https://colab.research.google.com/assets/colab-badge.svg\" alt=\"Open In Colab\"/></a>"
      ]
    },
    {
      "cell_type": "markdown",
      "source": [
        "github path: Supervised_Contrastive_Learning/Classification_CV.ipynb"
      ],
      "metadata": {
        "id": "knmefPeXP9AP"
      }
    },
    {
      "cell_type": "markdown",
      "source": [
        "# Classification in Computer Vision (without Supervised Contrastive Learning or Loss)"
      ],
      "metadata": {
        "id": "aIurZiyhPFwC"
      }
    },
    {
      "cell_type": "code",
      "execution_count": 1,
      "metadata": {
        "id": "rxZaqjt2OH9h"
      },
      "outputs": [],
      "source": [
        "import keras\n",
        "from keras import layers"
      ]
    },
    {
      "cell_type": "code",
      "source": [
        "\n",
        "import tensorflow as tf\n",
        "import numpy as np\n",
        "from tensorflow import keras\n",
        "from keras import losses"
      ],
      "metadata": {
        "id": "LvLTDJ9cPuGL"
      },
      "execution_count": 2,
      "outputs": []
    },
    {
      "cell_type": "markdown",
      "source": [
        "# Preparing the Data"
      ],
      "metadata": {
        "id": "cQU5goboQfYw"
      }
    },
    {
      "cell_type": "code",
      "source": [
        "num_classes = 10\n",
        "input_shape = (32, 32, 3)\n",
        "\n",
        "# Load the train and test data splits\n",
        "(x_train, y_train), (x_test, y_test) = keras.datasets.cifar10.load_data()\n",
        "\n",
        "# Display shapes of train and test datasets\n",
        "print(f\"x_train shape: {x_train.shape} - y_train shape: {y_train.shape}\")\n",
        "print(f\"x_test shape: {x_test.shape} - y_test shape: {y_test.shape}\")"
      ],
      "metadata": {
        "colab": {
          "base_uri": "https://localhost:8080/"
        },
        "id": "fxeXDD-nQCrB",
        "outputId": "e883d052-5674-4d49-fbf2-671bcb19d4a1"
      },
      "execution_count": 3,
      "outputs": [
        {
          "output_type": "stream",
          "name": "stdout",
          "text": [
            "Downloading data from https://www.cs.toronto.edu/~kriz/cifar-10-python.tar.gz\n",
            "170498071/170498071 [==============================] - 7s 0us/step\n",
            "x_train shape: (50000, 32, 32, 3) - y_train shape: (50000, 1)\n",
            "x_test shape: (10000, 32, 32, 3) - y_test shape: (10000, 1)\n"
          ]
        }
      ]
    },
    {
      "cell_type": "markdown",
      "source": [
        "## Data Augmentation Pipeline\n",
        "This augmentation pipeline consists of a sequential model with neural network layers that apply transformations onto the input data to increase the data's underlying patterns. Normalization is applied onto the weight's contained within the model to make the inputs initially equally contribute to the output of the next layers. RandomFlip applies a random horizontal flip to some images, and RandomRotation applies a 2% rotation on the images to avoid overfitting the model on angles that are overly represented within the data."
      ],
      "metadata": {
        "id": "3eBUnlxiQlIq"
      }
    },
    {
      "cell_type": "code",
      "source": [
        "data_augmentation = keras.Sequential(\n",
        "    [\n",
        "        layers.Normalization(),\n",
        "        layers.RandomFlip(\"horizontal\"),\n",
        "        layers.RandomRotation(0.02),\n",
        "    ]\n",
        ")\n",
        "\n",
        "# Setting the state of the normalization layer.\n",
        "data_augmentation.layers[0].adapt(x_train)"
      ],
      "metadata": {
        "id": "Ns34lxHAQRIg"
      },
      "execution_count": 4,
      "outputs": []
    },
    {
      "cell_type": "markdown",
      "source": [
        "# The Image Classification Model: Encoder and Classification Sub-Models\n",
        "\n",
        "As opposed to Supervised Contrastive Learning (SCL), this classification model will not train its' encoder 'model' seperately. It will incorporate the encoder as a submodule of the classifier. It also will not use the NPairs_Loss function (used for training a classification of a SCL model), but instead use the softmax loss, commonly used for multi-class classification, where each image is matched to only one label."
      ],
      "metadata": {
        "id": "TDvNM2jnThXa"
      }
    },
    {
      "cell_type": "code",
      "source": [
        "from tensorflow.keras.callbacks import Callback"
      ],
      "metadata": {
        "id": "58a9jGSvzt01"
      },
      "execution_count": 5,
      "outputs": []
    },
    {
      "cell_type": "code",
      "source": [
        "def create_encoder():\n",
        "    '''\n",
        "    this function loads a residual network without the top layers and returns a keras model\n",
        "    that can be used for encoding images.\n",
        "    '''\n",
        "    resnet = keras.applications.ResNet50V2(\n",
        "        include_top=False, weights=None, input_shape=input_shape, pooling=\"avg\"\n",
        "    )\n",
        "\n",
        "    inputs = keras.Input(shape=input_shape)\n",
        "    augmented = data_augmentation(inputs)\n",
        "    outputs = resnet(augmented)\n",
        "    model = keras.Model(inputs=inputs, outputs=outputs, name=\"cifar10-encoder\")\n",
        "    return model\n",
        "\n",
        "class LossHistory(Callback):\n",
        "    def __init__(self):\n",
        "        self.losses = []  # List to store losses\n",
        "\n",
        "    def on_epoch_end(self, epoch, logs=None):\n",
        "        if logs is not None:\n",
        "            self.losses.append(logs.get('loss'))  # Append loss"
      ],
      "metadata": {
        "id": "wASrpa9lTXvQ"
      },
      "execution_count": 6,
      "outputs": []
    },
    {
      "cell_type": "markdown",
      "source": [
        "## A Dimensionality-reducing Image Encoder Model"
      ],
      "metadata": {
        "id": "X0een6P3Q1dK"
      }
    },
    {
      "cell_type": "code",
      "source": [
        "encoder = create_encoder()\n",
        "encoder.summary()\n",
        "\n",
        "learning_rate = 0.001\n",
        "batch_size = 265\n",
        "hidden_units = 512\n",
        "projection_units = 128\n",
        "num_epochs = 10\n",
        "dropout_rate = 0.5\n",
        "temperature = 0.05"
      ],
      "metadata": {
        "colab": {
          "base_uri": "https://localhost:8080/"
        },
        "id": "QOtbP_YzQrq5",
        "outputId": "584556ea-de1f-4ab8-a26a-29e6dd9a43d6"
      },
      "execution_count": 7,
      "outputs": [
        {
          "output_type": "stream",
          "name": "stdout",
          "text": [
            "Model: \"cifar10-encoder\"\n",
            "_________________________________________________________________\n",
            " Layer (type)                Output Shape              Param #   \n",
            "=================================================================\n",
            " input_2 (InputLayer)        [(None, 32, 32, 3)]       0         \n",
            "                                                                 \n",
            " sequential (Sequential)     (None, 32, 32, 3)         7         \n",
            "                                                                 \n",
            " resnet50v2 (Functional)     (None, 2048)              23564800  \n",
            "                                                                 \n",
            "=================================================================\n",
            "Total params: 23564807 (89.89 MB)\n",
            "Trainable params: 23519360 (89.72 MB)\n",
            "Non-trainable params: 45447 (177.53 KB)\n",
            "_________________________________________________________________\n"
          ]
        }
      ]
    },
    {
      "cell_type": "markdown",
      "source": [
        "## The Classifier Model"
      ],
      "metadata": {
        "id": "OxmhJSmWTP66"
      }
    },
    {
      "cell_type": "code",
      "source": [
        "def create_classifier(encoder, trainable=True):\n",
        "    for layer in encoder.layers:\n",
        "        layer.trainable = trainable\n",
        "\n",
        "    inputs = keras.Input(shape=input_shape)\n",
        "    features = encoder(inputs)\n",
        "    features = layers.Dropout(dropout_rate)(features)\n",
        "    features = layers.Dense(hidden_units, activation=\"relu\")(features)\n",
        "    features = layers.Dropout(dropout_rate)(features)\n",
        "    outputs = layers.Dense(num_classes, activation=\"softmax\")(features)\n",
        "\n",
        "    model = keras.Model(inputs=inputs, outputs=outputs, name=\"cifar10-classifier\")\n",
        "    model.compile(\n",
        "        optimizer=keras.optimizers.Adam(learning_rate),\n",
        "        loss=keras.losses.SparseCategoricalCrossentropy(), # sparse categorical cross-entropy is used as opposed to N_Pairs Loss\n",
        "        metrics=[keras.metrics.SparseCategoricalAccuracy()],\n",
        "    )\n",
        "    return model"
      ],
      "metadata": {
        "id": "fWmntQnnQ8Jg"
      },
      "execution_count": 8,
      "outputs": []
    },
    {
      "cell_type": "code",
      "source": [
        "encoder = create_encoder() #encoer was note trained seperately\n",
        "classifier = create_classifier(encoder) # the encoder is added to the model, the model is extending it\n",
        "classifier.summary() # both encoder and model are trained as one\n",
        "\n",
        "history = classifier.fit(x=x_train, y=y_train, batch_size=batch_size, epochs=num_epochs)\n",
        "\n",
        "accuracy = classifier.evaluate(x_test, y_test)[1]\n",
        "print(f\"Test accuracy: {round(accuracy * 100, 2)}%\")"
      ],
      "metadata": {
        "colab": {
          "base_uri": "https://localhost:8080/"
        },
        "id": "Gvf691v1S3li",
        "outputId": "79d1d512-3e46-4768-da4e-370e9c2e13e4"
      },
      "execution_count": 9,
      "outputs": [
        {
          "output_type": "stream",
          "name": "stdout",
          "text": [
            "Model: \"cifar10-classifier\"\n",
            "_________________________________________________________________\n",
            " Layer (type)                Output Shape              Param #   \n",
            "=================================================================\n",
            " input_5 (InputLayer)        [(None, 32, 32, 3)]       0         \n",
            "                                                                 \n",
            " cifar10-encoder (Functiona  (None, 2048)              23564807  \n",
            " l)                                                              \n",
            "                                                                 \n",
            " dropout (Dropout)           (None, 2048)              0         \n",
            "                                                                 \n",
            " dense (Dense)               (None, 512)               1049088   \n",
            "                                                                 \n",
            " dropout_1 (Dropout)         (None, 512)               0         \n",
            "                                                                 \n",
            " dense_1 (Dense)             (None, 10)                5130      \n",
            "                                                                 \n",
            "=================================================================\n",
            "Total params: 24619025 (93.91 MB)\n",
            "Trainable params: 24573578 (93.74 MB)\n",
            "Non-trainable params: 45447 (177.53 KB)\n",
            "_________________________________________________________________\n",
            "Epoch 1/10\n",
            "189/189 [==============================] - 63s 129ms/step - loss: 1.8707 - sparse_categorical_accuracy: 0.3167\n",
            "Epoch 2/10\n",
            "189/189 [==============================] - 18s 95ms/step - loss: 1.4236 - sparse_categorical_accuracy: 0.4915\n",
            "Epoch 3/10\n",
            "189/189 [==============================] - 18s 97ms/step - loss: 1.2416 - sparse_categorical_accuracy: 0.5653\n",
            "Epoch 4/10\n",
            "189/189 [==============================] - 18s 97ms/step - loss: 1.1136 - sparse_categorical_accuracy: 0.6121\n",
            "Epoch 5/10\n",
            "189/189 [==============================] - 19s 99ms/step - loss: 0.9848 - sparse_categorical_accuracy: 0.6605\n",
            "Epoch 6/10\n",
            "189/189 [==============================] - 19s 98ms/step - loss: 0.9137 - sparse_categorical_accuracy: 0.6869\n",
            "Epoch 7/10\n",
            "189/189 [==============================] - 18s 97ms/step - loss: 0.8475 - sparse_categorical_accuracy: 0.7111\n",
            "Epoch 8/10\n",
            "189/189 [==============================] - 18s 97ms/step - loss: 0.7970 - sparse_categorical_accuracy: 0.7268\n",
            "Epoch 9/10\n",
            "189/189 [==============================] - 19s 98ms/step - loss: 0.7294 - sparse_categorical_accuracy: 0.7515\n",
            "Epoch 10/10\n",
            "189/189 [==============================] - 19s 98ms/step - loss: 0.6721 - sparse_categorical_accuracy: 0.7698\n",
            "313/313 [==============================] - 6s 12ms/step - loss: 0.9411 - sparse_categorical_accuracy: 0.6987\n",
            "Test accuracy: 69.87%\n"
          ]
        }
      ]
    },
    {
      "cell_type": "markdown",
      "source": [
        "### Visualizing the Loss of the Previously Un-Trained Encoder & Classifier Combo"
      ],
      "metadata": {
        "id": "SXlO2GR92PCX"
      }
    },
    {
      "cell_type": "code",
      "source": [
        "classifier_losses = history.history['loss']"
      ],
      "metadata": {
        "id": "cAisyI5W2WQB"
      },
      "execution_count": 10,
      "outputs": []
    },
    {
      "cell_type": "code",
      "source": [
        "import matplotlib.pyplot as plt\n",
        "# plotting the saved_losses, each bin of 189 losses is an epoch, flattened\n",
        "epochs = [i for i in range(1, num_epochs + 1)]\n",
        "plt.plot(epochs, classifier_losses)\n",
        "plt.xlabel(\"Epoch\")\n",
        "plt.ylabel(\"Loss\")\n",
        "plt.show()"
      ],
      "metadata": {
        "colab": {
          "base_uri": "https://localhost:8080/",
          "height": 449
        },
        "id": "VMziVSAM17jW",
        "outputId": "a97e5c09-df83-4ca7-dc56-2eec92ab8712"
      },
      "execution_count": 18,
      "outputs": [
        {
          "output_type": "display_data",
          "data": {
            "text/plain": [
              "<Figure size 640x480 with 1 Axes>"
            ],
            "image/png": "[encoded data removed]"
          },
          "metadata": {}
        }
      ]
    },
    {
      "cell_type": "markdown",
      "source": [
        "# Conclusion\n",
        "In the SCL image classification notebook, the final model accuracy and loss after 10 epochs of training is around 79% and 0.61, respectively.\n",
        "\n",
        "In this non-SCL image classification notebook, the final model accuracy and loss after 10 epochs of training is around 77% and 0.67, respectively.\n",
        "\n",
        "This shows that the SCL architecture has the ability to improve the performance of a model trained for image classification when compared to the traditional baseline architecture. Although I only trained the two models for 10 epochs each - further training may show a bigger difference between the two models."
      ],
      "metadata": {
        "id": "CyNDUpLMWpji"
      }
    },
    {
      "cell_type": "code",
      "source": [],
      "metadata": {
        "id": "-Hde78hLYR4-"
      },
      "execution_count": null,
      "outputs": []
    }
  ]
}