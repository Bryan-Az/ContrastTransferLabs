{
  "nbformat": 4,
  "nbformat_minor": 0,
  "metadata": {
    "colab": {
      "provenance": [],
      "machine_shape": "hm",
      "gpuType": "T4",
      "include_colab_link": true
    },
    "kernelspec": {
      "name": "python3",
      "display_name": "Python 3"
    },
    "language_info": {
      "name": "python"
    },
    "accelerator": "GPU"
  },
  "cells": [
    {
      "cell_type": "markdown",
      "metadata": {
        "id": "view-in-github",
        "colab_type": "text"
      },
      "source": [
        "<a href=\"https://colab.research.google.com/github/Bryan-Az/ContrastTransferLabs/blob/main/Supervised_Contrastive_Learning/SCL_CV.ipynb\" target=\"_parent\"><img src=\"https://colab.research.google.com/assets/colab-badge.svg\" alt=\"Open In Colab\"/></a>"
      ]
    },
    {
      "cell_type": "markdown",
      "source": [
        "github_path: Supervised_Contrastive_Learning/SCL_CV.ipynb"
      ],
      "metadata": {
        "id": "08HfU2AHPmeb"
      }
    },
    {
      "cell_type": "markdown",
      "source": [
        "# Supervised Contrastive Learning in Computer Vision"
      ],
      "metadata": {
        "id": "aIurZiyhPFwC"
      }
    },
    {
      "cell_type": "code",
      "source": [
        "!pip install tensorflow-addons"
      ],
      "metadata": {
        "colab": {
          "base_uri": "https://localhost:8080/"
        },
        "id": "d0DVFPu0nvGL",
        "outputId": "8f49742b-c463-4188-e761-27eb108d0bba"
      },
      "execution_count": null,
      "outputs": [
        {
          "output_type": "stream",
          "name": "stdout",
          "text": [
            "Collecting tensorflow-addons\n",
            "  Downloading tensorflow_addons-0.23.0-cp310-cp310-manylinux_2_17_x86_64.manylinux2014_x86_64.whl (611 kB)\n",
            "\u001b[?25l     \u001b[90m━━━━━━━━━━━━━━━━━━━━━━━━━━━━━━━━━━━━━━━━\u001b[0m \u001b[32m0.0/611.8 kB\u001b[0m \u001b[31m?\u001b[0m eta \u001b[36m-:--:--\u001b[0m\r\u001b[2K     \u001b[91m━━━━━━━━━━━━━\u001b[0m\u001b[90m╺\u001b[0m\u001b[90m━━━━━━━━━━━━━━━━━━━━━━━━━━\u001b[0m \u001b[32m204.8/611.8 kB\u001b[0m \u001b[31m5.8 MB/s\u001b[0m eta \u001b[36m0:00:01\u001b[0m\r\u001b[2K     \u001b[91m━━━━━━━━━━━━━━━━━━━━━━━━━━━━━━━━━━━━━━━\u001b[0m\u001b[91m╸\u001b[0m \u001b[32m604.2/611.8 kB\u001b[0m \u001b[31m9.0 MB/s\u001b[0m eta \u001b[36m0:00:01\u001b[0m\r\u001b[2K     \u001b[90m━━━━━━━━━━━━━━━━━━━━━━━━━━━━━━━━━━━━━━━━\u001b[0m \u001b[32m611.8/611.8 kB\u001b[0m \u001b[31m8.0 MB/s\u001b[0m eta \u001b[36m0:00:00\u001b[0m\n",
            "\u001b[?25hRequirement already satisfied: packaging in /usr/local/lib/python3.10/dist-packages (from tensorflow-addons) (24.0)\n",
            "Collecting typeguard<3.0.0,>=2.7 (from tensorflow-addons)\n",
            "  Downloading typeguard-2.13.3-py3-none-any.whl (17 kB)\n",
            "Installing collected packages: typeguard, tensorflow-addons\n",
            "Successfully installed tensorflow-addons-0.23.0 typeguard-2.13.3\n"
          ]
        }
      ]
    },
    {
      "cell_type": "code",
      "execution_count": null,
      "metadata": {
        "id": "rxZaqjt2OH9h",
        "colab": {
          "base_uri": "https://localhost:8080/"
        },
        "outputId": "75086a17-205b-4d1d-80bb-bc4628e45527"
      },
      "outputs": [
        {
          "output_type": "stream",
          "name": "stderr",
          "text": [
            "/usr/local/lib/python3.10/dist-packages/tensorflow_addons/utils/tfa_eol_msg.py:23: UserWarning: \n",
            "\n",
            "TensorFlow Addons (TFA) has ended development and introduction of new features.\n",
            "TFA has entered a minimal maintenance and release mode until a planned end of life in May 2024.\n",
            "Please modify downstream libraries to take dependencies from other repositories in our TensorFlow community (e.g. Keras, Keras-CV, and Keras-NLP). \n",
            "\n",
            "For more information see: https://github.com/tensorflow/addons/issues/2807 \n",
            "\n",
            "  warnings.warn(\n"
          ]
        }
      ],
      "source": [
        "import keras\n",
        "from keras import layers\n",
        "import tensorflow_addons as tfa"
      ]
    },
    {
      "cell_type": "code",
      "source": [
        "import tensorflow as tf\n",
        "import numpy as np\n",
        "from tensorflow import keras\n",
        "from keras import losses"
      ],
      "metadata": {
        "id": "LvLTDJ9cPuGL"
      },
      "execution_count": null,
      "outputs": []
    },
    {
      "cell_type": "markdown",
      "source": [
        "# Preparing the Data"
      ],
      "metadata": {
        "id": "cQU5goboQfYw"
      }
    },
    {
      "cell_type": "code",
      "source": [
        "num_classes = 10\n",
        "input_shape = (32, 32, 3)\n",
        "\n",
        "# Load the train and test data splits\n",
        "(x_train, y_train), (x_test, y_test) = keras.datasets.cifar10.load_data()\n",
        "\n",
        "# Display shapes of train and test datasets\n",
        "print(f\"x_train shape: {x_train.shape} - y_train shape: {y_train.shape}\")\n",
        "print(f\"x_test shape: {x_test.shape} - y_test shape: {y_test.shape}\")"
      ],
      "metadata": {
        "colab": {
          "base_uri": "https://localhost:8080/"
        },
        "id": "fxeXDD-nQCrB",
        "outputId": "7301be38-584a-4c63-a91c-c5b411235fe5"
      },
      "execution_count": null,
      "outputs": [
        {
          "output_type": "stream",
          "name": "stdout",
          "text": [
            "Downloading data from https://www.cs.toronto.edu/~kriz/cifar-10-python.tar.gz\n",
            "170498071/170498071 [==============================] - 6s 0us/step\n",
            "x_train shape: (50000, 32, 32, 3) - y_train shape: (50000, 1)\n",
            "x_test shape: (10000, 32, 32, 3) - y_test shape: (10000, 1)\n"
          ]
        }
      ]
    },
    {
      "cell_type": "markdown",
      "source": [
        "## Data Augmentation Pipeline\n",
        "This augmentation pipeline consists of a sequential model with neural network layers that apply transformations onto the input data to increase the data's underlying patterns. Normalization is applied onto the weight's contained within the model to make the inputs initially equally contribute to the output of the next layers. RandomFlip applies a random horizontal flip to some images, and RandomRotation applies a 2% rotation on the images to avoid overfitting the model on angles that are overly represented within the data."
      ],
      "metadata": {
        "id": "3eBUnlxiQlIq"
      }
    },
    {
      "cell_type": "code",
      "source": [
        "data_augmentation = keras.Sequential(\n",
        "    [\n",
        "        layers.Normalization(),\n",
        "        layers.RandomFlip(\"horizontal\"),\n",
        "        layers.RandomRotation(0.02),\n",
        "    ]\n",
        ")\n",
        "\n",
        "# Setting the state of the normalization layer.\n",
        "data_augmentation.layers[0].adapt(x_train)"
      ],
      "metadata": {
        "id": "Ns34lxHAQRIg"
      },
      "execution_count": null,
      "outputs": []
    },
    {
      "cell_type": "markdown",
      "source": [
        "# The Supervised Contrastive Learning Model: Encoding & Classification Sub-Models"
      ],
      "metadata": {
        "id": "TDvNM2jnThXa"
      }
    },
    {
      "cell_type": "code",
      "source": [
        "from tensorflow.keras.callbacks import Callback"
      ],
      "metadata": {
        "id": "58a9jGSvzt01"
      },
      "execution_count": null,
      "outputs": []
    },
    {
      "cell_type": "code",
      "source": [
        "class SupervisedContrastiveLoss(keras.losses.Loss):\n",
        "    '''\n",
        "    this is the supervised contrastive loss function for image classification\n",
        "    it performs better than cross-entropy loss (typically used in classification)\n",
        "    '''\n",
        "    def __init__(self, temperature=1, name=None):\n",
        "        super().__init__(name=name)\n",
        "        self.temperature = temperature\n",
        "    @tf.function\n",
        "    def __call__(self, labels, feature_vectors, sample_weight=None):\n",
        "        # Normalize feature vectors\n",
        "        feature_vectors_normalized = tf.math.l2_normalize(feature_vectors, axis=1)\n",
        "        # Compute logits\n",
        "        logits = tf.divide(\n",
        "            tf.matmul(\n",
        "                feature_vectors_normalized, tf.transpose(feature_vectors_normalized)\n",
        "            ),\n",
        "            self.temperature,\n",
        "        )\n",
        "        loss = tfa.losses.npairs_loss(tf.squeeze(labels), logits)\n",
        "        return loss\n",
        "\n",
        "def create_encoder():\n",
        "    '''\n",
        "    this function loads a residual network without the top layers and returns a keras model\n",
        "    that can be used for encoding images.\n",
        "    '''\n",
        "    resnet = keras.applications.ResNet50V2(\n",
        "        include_top=False, weights=None, input_shape=input_shape, pooling=\"avg\"\n",
        "    )\n",
        "\n",
        "    inputs = keras.Input(shape=input_shape)\n",
        "    augmented = data_augmentation(inputs)\n",
        "    outputs = resnet(augmented)\n",
        "    model = keras.Model(inputs=inputs, outputs=outputs, name=\"cifar10-encoder\")\n",
        "    return model\n",
        "\n",
        "def add_projection_head(encoder):\n",
        "    '''\n",
        "    takes as input an encoder model (created using the prev. defined create_encoder() function)\n",
        "    and returns a new model with a projection head.\n",
        "    encoder: keras.Model\n",
        "    '''\n",
        "    inputs = keras.Input(shape=input_shape)\n",
        "    features = encoder(inputs)\n",
        "    outputs = layers.Dense(projection_units, activation=\"relu\")(features)\n",
        "    model = keras.Model(\n",
        "        inputs=inputs, outputs=outputs, name=\"cifar-encoder_with_projection-head\"\n",
        "    )\n",
        "    return model\n",
        "\n",
        "class LossHistory(Callback):\n",
        "    def __init__(self):\n",
        "        self.losses = []  # List to store losses\n",
        "\n",
        "    def on_epoch_end(self, epoch, logs=None):\n",
        "        if logs is not None:\n",
        "            self.losses.append(logs.get('loss'))  # Append loss"
      ],
      "metadata": {
        "id": "wASrpa9lTXvQ"
      },
      "execution_count": null,
      "outputs": []
    },
    {
      "cell_type": "markdown",
      "source": [
        "## A Dimensionality-reducing Image Encoder Model"
      ],
      "metadata": {
        "id": "X0een6P3Q1dK"
      }
    },
    {
      "cell_type": "code",
      "source": [
        "encoder = create_encoder()\n",
        "encoder.summary()\n",
        "\n",
        "learning_rate = 0.001\n",
        "batch_size = 265\n",
        "hidden_units = 512\n",
        "projection_units = 128\n",
        "num_epochs = 10\n",
        "dropout_rate = 0.5\n",
        "temperature = 0.05"
      ],
      "metadata": {
        "colab": {
          "base_uri": "https://localhost:8080/"
        },
        "id": "QOtbP_YzQrq5",
        "outputId": "844c2439-abb1-4945-ead6-9543146b7541"
      },
      "execution_count": null,
      "outputs": [
        {
          "output_type": "stream",
          "name": "stdout",
          "text": [
            "Model: \"cifar10-encoder\"\n",
            "_________________________________________________________________\n",
            " Layer (type)                Output Shape              Param #   \n",
            "=================================================================\n",
            " input_37 (InputLayer)       [(None, 32, 32, 3)]       0         \n",
            "                                                                 \n",
            " sequential (Sequential)     (None, 32, 32, 3)         7         \n",
            "                                                                 \n",
            " resnet50v2 (Functional)     (None, 2048)              23564800  \n",
            "                                                                 \n",
            "=================================================================\n",
            "Total params: 23564807 (89.89 MB)\n",
            "Trainable params: 23519360 (89.72 MB)\n",
            "Non-trainable params: 45447 (177.53 KB)\n",
            "_________________________________________________________________\n"
          ]
        }
      ]
    },
    {
      "cell_type": "code",
      "source": [
        "# pre-training the encoder prior to setting the classifier\n",
        "# it is preferable to train using a GPU, ETA: 15 minutes\n",
        "encoder_with_projection_head = add_projection_head(encoder)\n",
        "encoder_with_projection_head.compile(\n",
        "    optimizer=keras.optimizers.Adam(learning_rate), # a gradient descent optimizer with momentum\n",
        "    loss=SupervisedContrastiveLoss(temperature), # the contrastive loss is applied within the encoder\n",
        ")\n",
        "\n",
        "encoder_with_projection_head.summary()\n",
        "\n",
        "history = encoder_with_projection_head.fit(\n",
        "    x=x_train, y=y_train, batch_size=batch_size, epochs=num_epochs, callbacks=[LossHistory()]\n",
        ")"
      ],
      "metadata": {
        "colab": {
          "base_uri": "https://localhost:8080/"
        },
        "id": "BYo5YUhhZrEZ",
        "outputId": "f1593674-ec1d-495f-dd5f-53051263c790"
      },
      "execution_count": null,
      "outputs": [
        {
          "output_type": "stream",
          "name": "stdout",
          "text": [
            "Model: \"cifar-encoder_with_projection-head\"\n",
            "_________________________________________________________________\n",
            " Layer (type)                Output Shape              Param #   \n",
            "=================================================================\n",
            " input_38 (InputLayer)       [(None, 32, 32, 3)]       0         \n",
            "                                                                 \n",
            " cifar10-encoder (Functiona  (None, 2048)              23564807  \n",
            " l)                                                              \n",
            "                                                                 \n",
            " dense_11 (Dense)            (None, 128)               262272    \n",
            "                                                                 \n",
            "=================================================================\n",
            "Total params: 23827079 (90.89 MB)\n",
            "Trainable params: 23781632 (90.72 MB)\n",
            "Non-trainable params: 45447 (177.53 KB)\n",
            "_________________________________________________________________\n",
            "Epoch 1/10\n",
            "189/189 [==============================] - 39s 91ms/step - loss: 5.3293\n",
            "Epoch 2/10\n",
            "189/189 [==============================] - 17s 91ms/step - loss: 5.0675\n",
            "Epoch 3/10\n",
            "189/189 [==============================] - 17s 92ms/step - loss: 4.9246\n",
            "Epoch 4/10\n",
            "189/189 [==============================] - 18s 94ms/step - loss: 4.8056\n",
            "Epoch 5/10\n",
            "189/189 [==============================] - 18s 94ms/step - loss: 4.6928\n",
            "Epoch 6/10\n",
            "189/189 [==============================] - 18s 94ms/step - loss: 4.5953\n",
            "Epoch 7/10\n",
            "189/189 [==============================] - 18s 94ms/step - loss: 4.5254\n",
            "Epoch 8/10\n",
            "189/189 [==============================] - 18s 94ms/step - loss: 4.4460\n",
            "Epoch 9/10\n",
            "189/189 [==============================] - 18s 94ms/step - loss: 4.3861\n",
            "Epoch 10/10\n",
            "189/189 [==============================] - 18s 94ms/step - loss: 4.3302\n"
          ]
        }
      ]
    },
    {
      "cell_type": "code",
      "source": [
        "# Retrieve the recorded losses\n",
        "saved_losses = history.history['loss']"
      ],
      "metadata": {
        "id": "fBUV_FZ1y3nO"
      },
      "execution_count": null,
      "outputs": []
    },
    {
      "cell_type": "code",
      "source": [
        "saved_losses"
      ],
      "metadata": {
        "colab": {
          "base_uri": "https://localhost:8080/"
        },
        "id": "N8ConYR51NGH",
        "outputId": "c499b01a-6bc8-45d3-a036-c7645336a0bc"
      },
      "execution_count": null,
      "outputs": [
        {
          "output_type": "execute_result",
          "data": {
            "text/plain": [
              "[5.329336166381836,\n",
              " 5.067535400390625,\n",
              " 4.924575328826904,\n",
              " 4.805604457855225,\n",
              " 4.692788600921631,\n",
              " 4.595344543457031,\n",
              " 4.525373458862305,\n",
              " 4.446011066436768,\n",
              " 4.386149883270264,\n",
              " 4.330236434936523]"
            ]
          },
          "metadata": {},
          "execution_count": 84
        }
      ]
    },
    {
      "cell_type": "markdown",
      "source": [
        "### Visualizing the Loss of the trained Encoder"
      ],
      "metadata": {
        "id": "AukFPHoy1g6R"
      }
    },
    {
      "cell_type": "code",
      "source": [
        "import matplotlib.pyplot as plt\n",
        "# plotting the saved_losses, each bin of 189 losses is an epoch, flattened\n",
        "epochs = [i for i in range(1, num_epochs + 1)]\n",
        "plt.plot(epochs, saved_losses)\n",
        "# crop the range of y to 4-5.5\n",
        "plt.ylim(4,5.5)\n",
        "plt.xlabel(\"Epoch\")\n",
        "plt.ylabel(\"Loss\")\n",
        "plt.show()\n"
      ],
      "metadata": {
        "colab": {
          "base_uri": "https://localhost:8080/",
          "height": 449
        },
        "id": "OAKAAx_lshbB",
        "outputId": "26e6af83-191f-4ac6-f781-e753279b366d"
      },
      "execution_count": null,
      "outputs": [
        {
          "output_type": "display_data",
          "data": {
            "text/plain": [
              "<Figure size 640x480 with 1 Axes>"
            ],
            "image/png": "[encoded data removed]"
          },
          "metadata": {}
        }
      ]
    },
    {
      "cell_type": "markdown",
      "source": [
        "## The Classifier Model"
      ],
      "metadata": {
        "id": "OxmhJSmWTP66"
      }
    },
    {
      "cell_type": "code",
      "source": [
        "def create_classifier(encoder, trainable=True):\n",
        "    for layer in encoder.layers:\n",
        "        layer.trainable = trainable\n",
        "\n",
        "    inputs = keras.Input(shape=input_shape)\n",
        "    features = encoder(inputs)\n",
        "    features = layers.Dropout(dropout_rate)(features)\n",
        "    features = layers.Dense(hidden_units, activation=\"relu\")(features)\n",
        "    features = layers.Dropout(dropout_rate)(features)\n",
        "    outputs = layers.Dense(num_classes, activation=\"softmax\")(features)\n",
        "\n",
        "    model = keras.Model(inputs=inputs, outputs=outputs, name=\"cifar10-classifier\")\n",
        "    model.compile(\n",
        "        optimizer=keras.optimizers.Adam(learning_rate),\n",
        "        loss=keras.losses.SparseCategoricalCrossentropy(),\n",
        "        metrics=[keras.metrics.SparseCategoricalAccuracy()],\n",
        "    )\n",
        "    return model"
      ],
      "metadata": {
        "id": "fWmntQnnQ8Jg"
      },
      "execution_count": null,
      "outputs": []
    },
    {
      "cell_type": "code",
      "source": [
        "classifier = create_classifier(encoder, trainable=False)\n",
        "\n",
        "history = classifier.fit(x=x_train, y=y_train, batch_size=batch_size, epochs=num_epochs, callbacks=[LossHistory()])\n",
        "\n",
        "accuracy = classifier.evaluate(x_test, y_test)[1]\n",
        "print(f\"Test accuracy: {round(accuracy * 100, 2)}%\")"
      ],
      "metadata": {
        "colab": {
          "base_uri": "https://localhost:8080/"
        },
        "id": "izsoCcAmU5w1",
        "outputId": "c50509f8-5881-4b04-d810-d1e4459f1e3b"
      },
      "execution_count": null,
      "outputs": [
        {
          "output_type": "stream",
          "name": "stdout",
          "text": [
            "Epoch 1/10\n",
            "189/189 [==============================] - 8s 24ms/step - loss: 0.7137 - sparse_categorical_accuracy: 0.7772\n",
            "Epoch 2/10\n",
            "189/189 [==============================] - 4s 23ms/step - loss: 0.6381 - sparse_categorical_accuracy: 0.7908\n",
            "Epoch 3/10\n",
            "189/189 [==============================] - 4s 24ms/step - loss: 0.6274 - sparse_categorical_accuracy: 0.7931\n",
            "Epoch 4/10\n",
            "189/189 [==============================] - 4s 24ms/step - loss: 0.6265 - sparse_categorical_accuracy: 0.7932\n",
            "Epoch 5/10\n",
            "189/189 [==============================] - 4s 24ms/step - loss: 0.6247 - sparse_categorical_accuracy: 0.7934\n",
            "Epoch 6/10\n",
            "189/189 [==============================] - 4s 24ms/step - loss: 0.6194 - sparse_categorical_accuracy: 0.7943\n",
            "Epoch 7/10\n",
            "189/189 [==============================] - 4s 24ms/step - loss: 0.6158 - sparse_categorical_accuracy: 0.7955\n",
            "Epoch 8/10\n",
            "189/189 [==============================] - 5s 24ms/step - loss: 0.6173 - sparse_categorical_accuracy: 0.7943\n",
            "Epoch 9/10\n",
            "189/189 [==============================] - 4s 24ms/step - loss: 0.6181 - sparse_categorical_accuracy: 0.7934\n",
            "Epoch 10/10\n",
            "189/189 [==============================] - 5s 24ms/step - loss: 0.6164 - sparse_categorical_accuracy: 0.7944\n",
            "313/313 [==============================] - 5s 12ms/step - loss: 0.8044 - sparse_categorical_accuracy: 0.7412\n",
            "Test accuracy: 74.12%\n"
          ]
        }
      ]
    },
    {
      "cell_type": "markdown",
      "source": [
        "### Visualizing the Loss of the Trained Encoder & Classifier Combo"
      ],
      "metadata": {
        "id": "SXlO2GR92PCX"
      }
    },
    {
      "cell_type": "code",
      "source": [
        "classifier_losses = history.history['loss']"
      ],
      "metadata": {
        "id": "cAisyI5W2WQB"
      },
      "execution_count": null,
      "outputs": []
    },
    {
      "cell_type": "code",
      "source": [
        "import matplotlib.pyplot as plt\n",
        "# plotting the saved_losses, each bin of 189 losses is an epoch, flattened\n",
        "epochs = [i for i in range(1, num_epochs + 1)]\n",
        "plt.plot(epochs, classifier_losses)\n",
        "# crop the range of y to 4-5.5\n",
        "plt.xlabel(\"Epoch\")\n",
        "plt.ylabel(\"Loss\")\n",
        "plt.show()"
      ],
      "metadata": {
        "colab": {
          "base_uri": "https://localhost:8080/",
          "height": 449
        },
        "id": "VMziVSAM17jW",
        "outputId": "252c4964-a63b-4d41-c82c-c6162692b6d2"
      },
      "execution_count": null,
      "outputs": [
        {
          "output_type": "display_data",
          "data": {
            "text/plain": [
              "<Figure size 640x480 with 1 Axes>"
            ],
            "image/png": "[encoded data removed]"
          },
          "metadata": {}
        }
      ]
    },
    {
      "cell_type": "markdown",
      "source": [
        "# Conclusion\n",
        "In the SCL image classification notebook, the final model accuracy and loss after 10 epochs of training is around 79% and 0.61, respectively.\n",
        "\n",
        "In this non-SCL image classification notebook, the final model accuracy and loss after 10 epochs of training is around 77% and 0.67, respectively.\n",
        "\n",
        "This shows that the SCL architecture has the ability to improve the performance of a model trained for image classification when compared to the traditional baseline architecture. Although I only trained the two models for 10 epochs each - further training may show a bigger difference between the two models."
      ],
      "metadata": {
        "id": "CyNDUpLMWpji"
      }
    },
    {
      "cell_type": "code",
      "source": [],
      "metadata": {
        "id": "-Hde78hLYR4-"
      },
      "execution_count": null,
      "outputs": []
    }
  ]
}